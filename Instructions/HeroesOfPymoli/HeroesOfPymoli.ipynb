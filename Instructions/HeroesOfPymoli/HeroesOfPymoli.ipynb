{
 "cells": [
  {
   "cell_type": "markdown",
   "metadata": {},
   "source": [
    "### Note\n",
    "* Instructions have been included for each segment. You do not have to follow them exactly, but they are included to help you think through the steps."
   ]
  },
  {
   "cell_type": "code",
   "execution_count": 125,
   "metadata": {},
   "outputs": [],
   "source": [
    "# Dependencies and Setup\n",
    "import pandas as pd\n",
    "import numpy as np\n",
    "\n",
    "# File to Load (Remember to Change These)\n",
    "file_to_load = \"Resources/purchase_data.csv\"\n",
    "\n",
    "# Read Purchasing File and store into Pandas data frame\n",
    "purchase_data_df = pd.read_csv(file_to_load)"
   ]
  },
  {
   "cell_type": "markdown",
   "metadata": {},
   "source": [
    "## Player Count"
   ]
  },
  {
   "cell_type": "markdown",
   "metadata": {},
   "source": [
    "* Display the total number of players\n"
   ]
  },
  {
   "cell_type": "code",
   "execution_count": 126,
   "metadata": {},
   "outputs": [
    {
     "data": {
      "text/html": [
       "<div>\n",
       "<style scoped>\n",
       "    .dataframe tbody tr th:only-of-type {\n",
       "        vertical-align: middle;\n",
       "    }\n",
       "\n",
       "    .dataframe tbody tr th {\n",
       "        vertical-align: top;\n",
       "    }\n",
       "\n",
       "    .dataframe thead th {\n",
       "        text-align: right;\n",
       "    }\n",
       "</style>\n",
       "<table border=\"1\" class=\"dataframe\">\n",
       "  <thead>\n",
       "    <tr style=\"text-align: right;\">\n",
       "      <th></th>\n",
       "      <th>Total Players</th>\n",
       "    </tr>\n",
       "  </thead>\n",
       "  <tbody>\n",
       "    <tr>\n",
       "      <th>0</th>\n",
       "      <td>576</td>\n",
       "    </tr>\n",
       "  </tbody>\n",
       "</table>\n",
       "</div>"
      ],
      "text/plain": [
       "   Total Players\n",
       "0            576"
      ]
     },
     "execution_count": 126,
     "metadata": {},
     "output_type": "execute_result"
    }
   ],
   "source": [
    "player_count = purchase_data_df[\"SN\"].nunique()\n",
    "player_count_df = pd.DataFrame({\"Total Players\":[player_count]})\n",
    "player_count_df"
   ]
  },
  {
   "cell_type": "markdown",
   "metadata": {},
   "source": [
    "## Purchasing Analysis (Total)"
   ]
  },
  {
   "cell_type": "markdown",
   "metadata": {},
   "source": [
    "* Run basic calculations to obtain number of unique items, average price, etc.\n",
    "\n",
    "\n",
    "* Create a summary data frame to hold the results\n",
    "\n",
    "\n",
    "* Optional: give the displayed data cleaner formatting\n",
    "\n",
    "\n",
    "* Display the summary data frame\n"
   ]
  },
  {
   "cell_type": "code",
   "execution_count": 127,
   "metadata": {
    "scrolled": true
   },
   "outputs": [
    {
     "data": {
      "text/html": [
       "<div>\n",
       "<style scoped>\n",
       "    .dataframe tbody tr th:only-of-type {\n",
       "        vertical-align: middle;\n",
       "    }\n",
       "\n",
       "    .dataframe tbody tr th {\n",
       "        vertical-align: top;\n",
       "    }\n",
       "\n",
       "    .dataframe thead th {\n",
       "        text-align: right;\n",
       "    }\n",
       "</style>\n",
       "<table border=\"1\" class=\"dataframe\">\n",
       "  <thead>\n",
       "    <tr style=\"text-align: right;\">\n",
       "      <th></th>\n",
       "      <th>Number of Unique Items</th>\n",
       "      <th>Average Price</th>\n",
       "      <th>Number of Purchases</th>\n",
       "      <th>Total Revenue</th>\n",
       "    </tr>\n",
       "  </thead>\n",
       "  <tbody>\n",
       "    <tr>\n",
       "      <th>0</th>\n",
       "      <td>179</td>\n",
       "      <td>$3.05</td>\n",
       "      <td>780</td>\n",
       "      <td>$2,379.77</td>\n",
       "    </tr>\n",
       "  </tbody>\n",
       "</table>\n",
       "</div>"
      ],
      "text/plain": [
       "   Number of Unique Items Average Price  Number of Purchases Total Revenue\n",
       "0                     179         $3.05                  780     $2,379.77"
      ]
     },
     "execution_count": 127,
     "metadata": {},
     "output_type": "execute_result"
    }
   ],
   "source": [
    "# Determine the number of unique items\n",
    "unique_item_count = purchase_data_df[\"Item Name\"].nunique()\n",
    "\n",
    "# Determine the average item price\n",
    "avg_price = purchase_data_df[\"Price\"].mean()\n",
    "\n",
    "# Determine the number of total items purchased\n",
    "purchase_count = purchase_data_df[\"Purchase ID\"].count()\n",
    "\n",
    "# Calculate the total revenue\n",
    "tot_rev = purchase_data_df[\"Price\"].sum()\n",
    "\n",
    "# Construct a summary table\n",
    "purchase_summary_df = pd.DataFrame({\n",
    "    \"Number of Unique Items\": [unique_item_count],\n",
    "    \"Average Price\": [avg_price],\n",
    "    \"Number of Purchases\": [purchase_count],\n",
    "    \"Total Revenue\": [tot_rev]\n",
    "    })\n",
    "\n",
    "# Format the average price to be in $0,000.00 currency format\n",
    "purchase_summary_df[\"Average Price\"] = purchase_summary_df[\"Average Price\"].astype(float).map(\n",
    "    \"${:,.2f}\".format)\n",
    "\n",
    "# Format the total revenue to be in $0,000.00 currency format\n",
    "purchase_summary_df[\"Total Revenue\"] = purchase_summary_df[\"Total Revenue\"].astype(float).map(\n",
    "    \"${:,.2f}\".format)\n",
    "\n",
    "# Display the putchase summary table\n",
    "purchase_summary_df"
   ]
  },
  {
   "cell_type": "markdown",
   "metadata": {},
   "source": [
    "## Gender Demographics"
   ]
  },
  {
   "cell_type": "markdown",
   "metadata": {},
   "source": [
    "* Percentage and Count of Male Players\n",
    "\n",
    "\n",
    "* Percentage and Count of Female Players\n",
    "\n",
    "\n",
    "* Percentage and Count of Other / Non-Disclosed\n",
    "\n",
    "\n"
   ]
  },
  {
   "cell_type": "code",
   "execution_count": 170,
   "metadata": {},
   "outputs": [
    {
     "data": {
      "text/html": [
       "<div>\n",
       "<style scoped>\n",
       "    .dataframe tbody tr th:only-of-type {\n",
       "        vertical-align: middle;\n",
       "    }\n",
       "\n",
       "    .dataframe tbody tr th {\n",
       "        vertical-align: top;\n",
       "    }\n",
       "\n",
       "    .dataframe thead th {\n",
       "        text-align: right;\n",
       "    }\n",
       "</style>\n",
       "<table border=\"1\" class=\"dataframe\">\n",
       "  <thead>\n",
       "    <tr style=\"text-align: right;\">\n",
       "      <th></th>\n",
       "      <th>Gender</th>\n",
       "      <th>Total Count</th>\n",
       "      <th>Percentage of Players</th>\n",
       "    </tr>\n",
       "  </thead>\n",
       "  <tbody>\n",
       "    <tr>\n",
       "      <th>0</th>\n",
       "      <td>Male</td>\n",
       "      <td>484</td>\n",
       "      <td>84.03%</td>\n",
       "    </tr>\n",
       "    <tr>\n",
       "      <th>1</th>\n",
       "      <td>Female</td>\n",
       "      <td>81</td>\n",
       "      <td>14.06%</td>\n",
       "    </tr>\n",
       "    <tr>\n",
       "      <th>2</th>\n",
       "      <td>Other / Non-Disclosed</td>\n",
       "      <td>11</td>\n",
       "      <td>1.91%</td>\n",
       "    </tr>\n",
       "  </tbody>\n",
       "</table>\n",
       "</div>"
      ],
      "text/plain": [
       "                  Gender  Total Count Percentage of Players\n",
       "0                   Male          484                84.03%\n",
       "1                 Female           81                14.06%\n",
       "2  Other / Non-Disclosed           11                 1.91%"
      ]
     },
     "execution_count": 170,
     "metadata": {},
     "output_type": "execute_result"
    }
   ],
   "source": [
    "# *** MALE GENDER ***\n",
    "\n",
    "# Create data frame of male players\n",
    "male_gender_df = purchase_data_df.loc[purchase_data_df[\"Gender\"] == \"Male\"]\n",
    "\n",
    "# Find count of unique male players\n",
    "male_count = male_gender_df[\"SN\"].nunique()\n",
    "\n",
    "# Determine the percent of all unique players that are male\n",
    "male_pct = (male_count / player_count) * 100\n",
    "\n",
    "# *** FEMALE GENDER ***\n",
    "\n",
    "# Create data frame of female players\n",
    "female_gender_df = purchase_data_df.loc[purchase_data_df[\"Gender\"] == \"Female\"]\n",
    "\n",
    "# Find count of unique female players\n",
    "female_count = female_gender_df[\"SN\"].nunique()\n",
    "\n",
    "# Determine the percent of all unique players that are female\n",
    "female_pct = (female_count / player_count) * 100\n",
    "\n",
    "# *** ALL OTHER GENDER ***\n",
    "\n",
    "# Create data frame of all other players\n",
    "other_gender_df = purchase_data_df.loc[purchase_data_df[\"Gender\"] == \"Other / Non-Disclosed\"]\n",
    "\n",
    "# Find count of unique all other players\n",
    "other_count = other_gender_df[\"SN\"].nunique()\n",
    "\n",
    "# Determine the percent of \"all other\" unique players\n",
    "other_pct = (other_count / player_count) * 100\n",
    "\n",
    "\n",
    "# Create a new data set of the players counts and percentages\n",
    "raw_data_info = {\"Gender\": [\"Male\", \"Female\", \"Other / Non-Disclosed\"],\n",
    "    \"Total Count\": [(male_count), (female_count), (other_count)],\n",
    "    \"Percentage of Players\": [(male_pct), (female_pct), (other_pct)]}\n",
    "\n",
    "# Create a new data frame from the new data set\n",
    "info_df = pd.DataFrame(raw_data_info, columns=[\"Gender\", \"Total Count\", \"Percentage of Players\"])\n",
    "\n",
    "# Format the percentages in the data frame as 00.00%\n",
    "info_df[\"Percentage of Players\"] = info_df[\"Percentage of Players\"].astype(float).map(\n",
    "    \"{:,.2f}%\".format)\n",
    "\n",
    "# Display the data frame\n",
    "info_df\n",
    "                                      \n",
    "                                                                          "
   ]
  },
  {
   "cell_type": "markdown",
   "metadata": {},
   "source": [
    "\n",
    "## Purchasing Analysis (Gender)"
   ]
  },
  {
   "cell_type": "markdown",
   "metadata": {},
   "source": [
    "* Run basic calculations to obtain purchase count, avg. purchase price, avg. purchase total per person etc. by gender\n",
    "\n",
    "\n",
    "\n",
    "\n",
    "* Create a summary data frame to hold the results\n",
    "\n",
    "\n",
    "* Optional: give the displayed data cleaner formatting\n",
    "\n",
    "\n",
    "* Display the summary data frame"
   ]
  },
  {
   "cell_type": "code",
   "execution_count": 187,
   "metadata": {},
   "outputs": [
    {
     "data": {
      "text/html": [
       "<div>\n",
       "<style scoped>\n",
       "    .dataframe tbody tr th:only-of-type {\n",
       "        vertical-align: middle;\n",
       "    }\n",
       "\n",
       "    .dataframe tbody tr th {\n",
       "        vertical-align: top;\n",
       "    }\n",
       "\n",
       "    .dataframe thead th {\n",
       "        text-align: right;\n",
       "    }\n",
       "</style>\n",
       "<table border=\"1\" class=\"dataframe\">\n",
       "  <thead>\n",
       "    <tr style=\"text-align: right;\">\n",
       "      <th></th>\n",
       "      <th>Gender</th>\n",
       "      <th>Purchase Count</th>\n",
       "      <th>Average Purchase Price</th>\n",
       "      <th>Total Purchase Value</th>\n",
       "      <th>Average Total Perchases per Person</th>\n",
       "    </tr>\n",
       "  </thead>\n",
       "  <tbody>\n",
       "    <tr>\n",
       "      <th>0</th>\n",
       "      <td>Male</td>\n",
       "      <td>113</td>\n",
       "      <td>$3.20</td>\n",
       "      <td>$361.94</td>\n",
       "      <td>$4.47</td>\n",
       "    </tr>\n",
       "    <tr>\n",
       "      <th>1</th>\n",
       "      <td>Female</td>\n",
       "      <td>652</td>\n",
       "      <td>$3.02</td>\n",
       "      <td>$1,967.64</td>\n",
       "      <td>$4.07</td>\n",
       "    </tr>\n",
       "    <tr>\n",
       "      <th>2</th>\n",
       "      <td>Other / Non-Disclosed</td>\n",
       "      <td>15</td>\n",
       "      <td>$3.35</td>\n",
       "      <td>$50.19</td>\n",
       "      <td>$4.56</td>\n",
       "    </tr>\n",
       "  </tbody>\n",
       "</table>\n",
       "</div>"
      ],
      "text/plain": [
       "                  Gender  Purchase Count Average Purchase Price  \\\n",
       "0                   Male             113                  $3.20   \n",
       "1                 Female             652                  $3.02   \n",
       "2  Other / Non-Disclosed              15                  $3.35   \n",
       "\n",
       "  Total Purchase Value Average Total Perchases per Person  \n",
       "0              $361.94                              $4.47  \n",
       "1            $1,967.64                              $4.07  \n",
       "2               $50.19                              $4.56  "
      ]
     },
     "execution_count": 187,
     "metadata": {},
     "output_type": "execute_result"
    }
   ],
   "source": [
    "# Purchase Count\n",
    "female_purch_count = female_gender_df[\"Purchase ID\"].count()\n",
    "male_purch_count = male_gender_df[\"Purchase ID\"].count()\n",
    "other_purch_count = other_gender_df[\"Purchase ID\"].count()\n",
    "\n",
    "# Average Purchase Price\n",
    "female_avg_price = female_gender_df[\"Price\"].mean()\n",
    "male_avg_price = male_gender_df[\"Price\"].mean()\n",
    "other_avg_price = other_gender_df[\"Price\"].mean()\n",
    "\n",
    "# Total Purchase Value\n",
    "female_tot_purch = female_gender_df[\"Price\"].sum()\n",
    "male_tot_purch = male_gender_df[\"Price\"].sum()\n",
    "other_tot_purch = other_gender_df[\"Price\"].sum()\n",
    "\n",
    "# Average Total Perchases per Person\n",
    "female_purch_per = female_tot_purch / female_count\n",
    "male_purch_per = male_tot_purch / male_count\n",
    "other_purch_per = other_tot_purch / other_count\n",
    "\n",
    "\n",
    "# Create a new data set of purchases and percentages\n",
    "purch_data_info = {\"Gender\": [\"Male\", \"Female\", \"Other / Non-Disclosed\"],\n",
    "    \"Purchase Count\": [(female_purch_count), (male_purch_count), (other_purch_count)],\n",
    "    \"Average Purchase Price\": [(female_avg_price), (male_avg_price), (other_avg_price)],\n",
    "    \"Total Purchase Value\": [(female_tot_purch), (male_tot_purch), (other_tot_purch)],\n",
    "    \"Average Total Perchases per Person\": [(female_purch_per), (male_purch_per), (other_purch_per)]}\n",
    "\n",
    "# Create a new data frame from the new data set\n",
    "purch_summary_df = pd.DataFrame(purch_data_info, columns=[\"Gender\", \"Purchase Count\", \"Average Purchase Price\",\n",
    "    \"Total Purchase Value\", \"Average Total Perchases per Person\"])\n",
    "\n",
    "# Format the purchases as $0,000.00\n",
    "purch_summary_df[\"Average Purchase Price\"] = purch_summary_df[\"Average Purchase Price\"].astype(float).map(\n",
    "    \"${:,.2f}\".format)\n",
    "purch_summary_df[\"Total Purchase Value\"] = purch_summary_df[\"Total Purchase Value\"].astype(float).map(\n",
    "    \"${:,.2f}\".format)\n",
    "purch_summary_df[\"Average Total Perchases per Person\"] = purch_summary_df[\"Average Total Perchases per Person\"].astype(float).map(\n",
    "    \"${:,.2f}\".format)\n",
    "\n",
    "# Display the data frame\n",
    "purch_summary_df\n",
    "\n"
   ]
  },
  {
   "cell_type": "markdown",
   "metadata": {},
   "source": [
    "## Age Demographics"
   ]
  },
  {
   "cell_type": "markdown",
   "metadata": {},
   "source": [
    "* Establish bins for ages\n",
    "\n",
    "\n",
    "* Categorize the existing players using the age bins. Hint: use pd.cut()\n",
    "\n",
    "\n",
    "* Calculate the numbers and percentages by age group\n",
    "\n",
    "\n",
    "* Create a summary data frame to hold the results\n",
    "\n",
    "\n",
    "* Optional: round the percentage column to two decimal points\n",
    "\n",
    "\n",
    "* Display Age Demographics Table\n"
   ]
  },
  {
   "cell_type": "code",
   "execution_count": 204,
   "metadata": {},
   "outputs": [
    {
     "name": "stdout",
     "output_type": "stream",
     "text": [
      "780\n"
     ]
    }
   ],
   "source": [
    "# Establish Age Bins\n",
    "# Age_LT_10 = purchase_data_df[\"SN\"].nunique()\n",
    "# print(Age_LT_10)\n",
    "\n",
    "Age_LT_10_df = purchase_data_df[\"Age\"] < 10\n",
    "Age_LT_10_count = Age_LT_10_df.count()\n",
    "print(Age_LT_10_count)\n",
    "\n",
    "# Age_LT_10 = (purchase_data_df[\"SN\"].nunique() | purchase_data_df[\"Age\"] < 10).count()\n",
    "# print(Age_LT_10)\n",
    "\n",
    "\n",
    "# Age_10_14 = (purchase_data_df[\"SN\"].nunique() | purchase_data_df[\"Age\"] < 15 ).count() - Age_LT_10\n",
    "# print(Age_10_14)\n"
   ]
  },
  {
   "cell_type": "markdown",
   "metadata": {},
   "source": [
    "## Purchasing Analysis (Age)"
   ]
  },
  {
   "cell_type": "markdown",
   "metadata": {},
   "source": [
    "* Bin the purchase_data data frame by age\n",
    "\n",
    "\n",
    "* Run basic calculations to obtain purchase count, avg. purchase price, avg. purchase total per person etc. in the table below\n",
    "\n",
    "\n",
    "* Create a summary data frame to hold the results\n",
    "\n",
    "\n",
    "* Optional: give the displayed data cleaner formatting\n",
    "\n",
    "\n",
    "* Display the summary data frame"
   ]
  },
  {
   "cell_type": "code",
   "execution_count": null,
   "metadata": {},
   "outputs": [],
   "source": []
  },
  {
   "cell_type": "markdown",
   "metadata": {},
   "source": [
    "## Top Spenders"
   ]
  },
  {
   "cell_type": "markdown",
   "metadata": {},
   "source": [
    "* Run basic calculations to obtain the results in the table below\n",
    "\n",
    "\n",
    "* Create a summary data frame to hold the results\n",
    "\n",
    "\n",
    "* Sort the total purchase value column in descending order\n",
    "\n",
    "\n",
    "* Optional: give the displayed data cleaner formatting\n",
    "\n",
    "\n",
    "* Display a preview of the summary data frame\n",
    "\n"
   ]
  },
  {
   "cell_type": "code",
   "execution_count": null,
   "metadata": {},
   "outputs": [],
   "source": []
  },
  {
   "cell_type": "markdown",
   "metadata": {},
   "source": [
    "## Most Popular Items"
   ]
  },
  {
   "cell_type": "markdown",
   "metadata": {},
   "source": [
    "* Retrieve the Item ID, Item Name, and Item Price columns\n",
    "\n",
    "\n",
    "* Group by Item ID and Item Name. Perform calculations to obtain purchase count, average item price, and total purchase value\n",
    "\n",
    "\n",
    "* Create a summary data frame to hold the results\n",
    "\n",
    "\n",
    "* Sort the purchase count column in descending order\n",
    "\n",
    "\n",
    "* Optional: give the displayed data cleaner formatting\n",
    "\n",
    "\n",
    "* Display a preview of the summary data frame\n",
    "\n"
   ]
  },
  {
   "cell_type": "code",
   "execution_count": null,
   "metadata": {},
   "outputs": [],
   "source": []
  },
  {
   "cell_type": "markdown",
   "metadata": {},
   "source": [
    "## Most Profitable Items"
   ]
  },
  {
   "cell_type": "markdown",
   "metadata": {},
   "source": [
    "* Sort the above table by total purchase value in descending order\n",
    "\n",
    "\n",
    "* Optional: give the displayed data cleaner formatting\n",
    "\n",
    "\n",
    "* Display a preview of the data frame\n",
    "\n"
   ]
  },
  {
   "cell_type": "code",
   "execution_count": null,
   "metadata": {
    "scrolled": true
   },
   "outputs": [],
   "source": []
  },
  {
   "cell_type": "code",
   "execution_count": null,
   "metadata": {},
   "outputs": [],
   "source": []
  },
  {
   "cell_type": "code",
   "execution_count": null,
   "metadata": {},
   "outputs": [],
   "source": []
  },
  {
   "cell_type": "code",
   "execution_count": null,
   "metadata": {},
   "outputs": [],
   "source": []
  },
  {
   "cell_type": "code",
   "execution_count": null,
   "metadata": {},
   "outputs": [],
   "source": []
  },
  {
   "cell_type": "code",
   "execution_count": null,
   "metadata": {},
   "outputs": [],
   "source": []
  }
 ],
 "metadata": {
  "anaconda-cloud": {},
  "kernel_info": {
   "name": "python3"
  },
  "kernelspec": {
   "display_name": "Python 3",
   "language": "python",
   "name": "python3"
  },
  "language_info": {
   "codemirror_mode": {
    "name": "ipython",
    "version": 3
   },
   "file_extension": ".py",
   "mimetype": "text/x-python",
   "name": "python",
   "nbconvert_exporter": "python",
   "pygments_lexer": "ipython3",
   "version": "3.8.3"
  },
  "latex_envs": {
   "LaTeX_envs_menu_present": true,
   "autoclose": false,
   "autocomplete": true,
   "bibliofile": "biblio.bib",
   "cite_by": "apalike",
   "current_citInitial": 1,
   "eqLabelWithNumbers": true,
   "eqNumInitial": 1,
   "hotkeys": {
    "equation": "Ctrl-E",
    "itemize": "Ctrl-I"
   },
   "labels_anchors": false,
   "latex_user_defs": false,
   "report_style_numbering": false,
   "user_envs_cfg": false
  },
  "nteract": {
   "version": "0.2.0"
  }
 },
 "nbformat": 4,
 "nbformat_minor": 2
}
